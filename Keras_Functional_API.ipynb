{
 "cells": [
  {
   "cell_type": "code",
   "execution_count": 1,
   "id": "e83ce9f2",
   "metadata": {},
   "outputs": [],
   "source": [
    "import numpy as np\n",
    "import pandas as pd\n",
    "import tensorflow\n",
    "from tensorflow import keras\n",
    "from tensorflow.keras import layers\n",
    "from tensorflow.keras.layers import Dense\n",
    "from keras.models import Model\n",
    "from keras.layers import *"
   ]
  },
  {
   "cell_type": "code",
   "execution_count": 2,
   "id": "e41166e3",
   "metadata": {},
   "outputs": [],
   "source": [
    "inputA = Input(shape = (32,))\n",
    "inputB = Input(shape = (128,))"
   ]
  },
  {
   "cell_type": "code",
   "execution_count": 3,
   "id": "617ce027",
   "metadata": {},
   "outputs": [],
   "source": [
    "# first branch operate on first input\n",
    "x = Dense(8 , activation = 'relu')(inputA)\n",
    "x1 = Dense(4, activation = 'relu')(x)"
   ]
  },
  {
   "cell_type": "code",
   "execution_count": 8,
   "id": "e48b5aae",
   "metadata": {},
   "outputs": [],
   "source": [
    "# second bracnh operate on  3nd input"
   ]
  },
  {
   "cell_type": "code",
   "execution_count": 4,
   "id": "7fdd5038",
   "metadata": {},
   "outputs": [],
   "source": [
    "y = Dense(64, activation = 'relu')(inputA)\n",
    "y1 = Dense(32 , activation = 'relu')(y)\n",
    "y2 = Dense(4 , activation  = 'relu')(y1)\n"
   ]
  },
  {
   "cell_type": "code",
   "execution_count": 44,
   "id": "da71bd92",
   "metadata": {},
   "outputs": [],
   "source": [
    "# conbine output of two branch"
   ]
  },
  {
   "cell_type": "code",
   "execution_count": 5,
   "id": "6460a3ab",
   "metadata": {},
   "outputs": [],
   "source": [
    "combined  = concatenate([x1 , y2])"
   ]
  },
  {
   "cell_type": "code",
   "execution_count": 12,
   "id": "30cb0610",
   "metadata": {},
   "outputs": [],
   "source": [
    "# apply fully  connected layers "
   ]
  },
  {
   "cell_type": "code",
   "execution_count": 6,
   "id": "e4e1f63b",
   "metadata": {},
   "outputs": [],
   "source": [
    "z = Dense(2 , activation = 'relu')(combined)\n",
    "z1 = Dense(1 ,activation = 'linear')(z)"
   ]
  },
  {
   "cell_type": "code",
   "execution_count": 30,
   "id": "c0474633",
   "metadata": {},
   "outputs": [],
   "source": [
    "# now model will accept the input and output"
   ]
  },
  {
   "cell_type": "code",
   "execution_count": 7,
   "id": "f45aaad9",
   "metadata": {},
   "outputs": [],
   "source": [
    "model = Model(inputs = [inputA , inputB] , outputs = z1)"
   ]
  },
  {
   "cell_type": "code",
   "execution_count": 49,
   "id": "548960b1",
   "metadata": {},
   "outputs": [],
   "source": [
    "# plot model"
   ]
  },
  {
   "cell_type": "code",
   "execution_count": 8,
   "id": "ff9995d0",
   "metadata": {},
   "outputs": [],
   "source": [
    "from keras.utils import plot_model"
   ]
  },
  {
   "cell_type": "code",
   "execution_count": 14,
   "id": "43d51816",
   "metadata": {},
   "outputs": [
    {
     "name": "stdout",
     "output_type": "stream",
     "text": [
      "You must install graphviz (see instructions at https://graphviz.gitlab.io/download/) for `plot_model` to work.\n"
     ]
    }
   ],
   "source": [
    "plot_model(model)"
   ]
  },
  {
   "cell_type": "code",
   "execution_count": 53,
   "id": "22f0e5d9",
   "metadata": {},
   "outputs": [
    {
     "name": "stdout",
     "output_type": "stream",
     "text": [
      "Requirement already satisfied: pydot in c:\\users\\parveen\\anaconda3\\lib\\site-packages (2.0.0)\n",
      "Requirement already satisfied: pyparsing>=3 in c:\\users\\parveen\\anaconda3\\lib\\site-packages (from pydot) (3.0.9)\n",
      "Note: you may need to restart the kernel to use updated packages.\n"
     ]
    }
   ],
   "source": [
    "pip install pydot"
   ]
  },
  {
   "cell_type": "code",
   "execution_count": 20,
   "id": "149e4abf",
   "metadata": {},
   "outputs": [
    {
     "name": "stdout",
     "output_type": "stream",
     "text": [
      "Collecting graphviz\n",
      "  Obtaining dependency information for graphviz from https://files.pythonhosted.org/packages/00/be/d59db2d1d52697c6adc9eacaf50e8965b6345cc143f671e1ed068818d5cf/graphviz-0.20.3-py3-none-any.whl.metadata\n",
      "  Downloading graphviz-0.20.3-py3-none-any.whl.metadata (12 kB)\n",
      "Downloading graphviz-0.20.3-py3-none-any.whl (47 kB)\n",
      "   ---------------------------------------- 0.0/47.1 kB ? eta -:--:--\n",
      "   ---------------------------------------- 47.1/47.1 kB 1.2 MB/s eta 0:00:00\n",
      "Installing collected packages: graphviz\n",
      "Successfully installed graphviz-0.20.3\n",
      "Note: you may need to restart the kernel to use updated packages.\n"
     ]
    }
   ],
   "source": [
    "pip install graphviz"
   ]
  },
  {
   "cell_type": "code",
   "execution_count": 20,
   "id": "905076fa",
   "metadata": {},
   "outputs": [
    {
     "name": "stdout",
     "output_type": "stream",
     "text": [
      "Requirement already satisfied: pydot-ng in c:\\users\\parveen\\anaconda3\\lib\\site-packages (2.0.0)\n",
      "Requirement already satisfied: pyparsing>=2.0.1 in c:\\users\\parveen\\anaconda3\\lib\\site-packages (from pydot-ng) (3.0.9)\n",
      "Note: you may need to restart the kernel to use updated packages.\n"
     ]
    }
   ],
   "source": [
    "pip install pydot-ng"
   ]
  },
  {
   "cell_type": "code",
   "execution_count": 12,
   "id": "1c5ddf2e",
   "metadata": {},
   "outputs": [
    {
     "ename": "SyntaxError",
     "evalue": "invalid syntax (2798025576.py, line 1)",
     "output_type": "error",
     "traceback": [
      "\u001b[1;36m  Cell \u001b[1;32mIn[12], line 1\u001b[1;36m\u001b[0m\n\u001b[1;33m    sudo  install graphviz\u001b[0m\n\u001b[1;37m          ^\u001b[0m\n\u001b[1;31mSyntaxError\u001b[0m\u001b[1;31m:\u001b[0m invalid syntax\n"
     ]
    }
   ],
   "source": []
  },
  {
   "cell_type": "code",
   "execution_count": null,
   "id": "47a4229d",
   "metadata": {},
   "outputs": [],
   "source": []
  }
 ],
 "metadata": {
  "kernelspec": {
   "display_name": "Python 3 (ipykernel)",
   "language": "python",
   "name": "python3"
  },
  "language_info": {
   "codemirror_mode": {
    "name": "ipython",
    "version": 3
   },
   "file_extension": ".py",
   "mimetype": "text/x-python",
   "name": "python",
   "nbconvert_exporter": "python",
   "pygments_lexer": "ipython3",
   "version": "3.11.5"
  }
 },
 "nbformat": 4,
 "nbformat_minor": 5
}
